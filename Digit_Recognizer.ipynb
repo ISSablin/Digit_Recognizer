{
 "cells": [
  {
   "cell_type": "markdown",
   "metadata": {},
   "source": [
    "- Initializing"
   ]
  },
  {
   "cell_type": "code",
   "execution_count": 1,
   "metadata": {},
   "outputs": [],
   "source": [
    "import numpy as np\n",
    "#import matplotlib.pyplot as plt\n",
    "import pandas as pd\n",
    "#import seaborn as sns\n",
    "#import statsmodels.api as sm\n",
    "#from sklearn.linear_model import LogisticRegression\n",
    "from sklearn import ensemble"
   ]
  },
  {
   "cell_type": "markdown",
   "metadata": {},
   "source": [
    "- Reading data"
   ]
  },
  {
   "cell_type": "code",
   "execution_count": 2,
   "metadata": {},
   "outputs": [],
   "source": [
    "df = pd.read_csv('train.csv')"
   ]
  },
  {
   "cell_type": "markdown",
   "metadata": {},
   "source": [
    "- Feature engineering"
   ]
  },
  {
   "cell_type": "code",
   "execution_count": 3,
   "metadata": {},
   "outputs": [],
   "source": [
    "sel_width = df.shape[0]\n",
    "features = pd.get_dummies(df['label'].loc[:sel_width-1])"
   ]
  },
  {
   "cell_type": "code",
   "execution_count": 4,
   "metadata": {},
   "outputs": [],
   "source": [
    "x = df.iloc[:sel_width,1:]\n",
    "y = features.iloc[:,:10]"
   ]
  },
  {
   "cell_type": "markdown",
   "metadata": {},
   "source": [
    "- Dataset splitting. For testing, splitting the training set to two subsets. For the final training, taking all the data."
   ]
  },
  {
   "cell_type": "code",
   "execution_count": 5,
   "metadata": {},
   "outputs": [],
   "source": [
    "x_train = x\n",
    "y_train = y"
   ]
  },
  {
   "cell_type": "code",
   "execution_count": 6,
   "metadata": {},
   "outputs": [],
   "source": [
    "#x_train, y_train = x[x.index % 10 != 0], y[y.index % 10 != 0]\n",
    "#x_test, y_test = x[x.index % 10 == 0], y[y.index % 10 == 0]"
   ]
  },
  {
   "cell_type": "code",
   "execution_count": 7,
   "metadata": {},
   "outputs": [],
   "source": [
    "x_train_orig_w = x_train.shape[1]\n",
    "y_train_orig_w = y_train.shape[1]"
   ]
  },
  {
   "cell_type": "markdown",
   "metadata": {},
   "source": [
    "- Random Forest Classifier"
   ]
  },
  {
   "cell_type": "code",
   "execution_count": 8,
   "metadata": {},
   "outputs": [
    {
     "data": {
      "text/plain": [
       "RandomForestClassifier(bootstrap=True, class_weight=None, criterion='entropy',\n",
       "            max_depth=150, max_features='auto', max_leaf_nodes=None,\n",
       "            min_impurity_decrease=0.0, min_impurity_split=None,\n",
       "            min_samples_leaf=1, min_samples_split=2,\n",
       "            min_weight_fraction_leaf=0.0, n_estimators=3000, n_jobs=None,\n",
       "            oob_score=False, random_state=None, verbose=0,\n",
       "            warm_start=False)"
      ]
     },
     "execution_count": 8,
     "metadata": {},
     "output_type": "execute_result"
    }
   ],
   "source": [
    "rfc = ensemble.RandomForestClassifier(max_depth=150, n_estimators=3000, criterion='entropy')\n",
    "rfc.fit(x_train,y_train)"
   ]
  },
  {
   "cell_type": "markdown",
   "metadata": {},
   "source": [
    "Accuracy on a training subset"
   ]
  },
  {
   "cell_type": "code",
   "execution_count": 9,
   "metadata": {},
   "outputs": [
    {
     "data": {
      "text/plain": [
       "1.0"
      ]
     },
     "execution_count": 9,
     "metadata": {},
     "output_type": "execute_result"
    }
   ],
   "source": [
    "rfc.score(x_train,y_train)"
   ]
  },
  {
   "cell_type": "markdown",
   "metadata": {},
   "source": [
    "Accuracy on a testing subset"
   ]
  },
  {
   "cell_type": "code",
   "execution_count": 11,
   "metadata": {},
   "outputs": [],
   "source": [
    "rfc.score(x_test.iloc[:,:x_train_orig_w],y_test.iloc[:,:y_train_orig_w])"
   ]
  },
  {
   "cell_type": "markdown",
   "metadata": {},
   "source": [
    "Storing the predicted values to array"
   ]
  },
  {
   "cell_type": "code",
   "execution_count": 13,
   "metadata": {},
   "outputs": [],
   "source": [
    "z = rfc.predict(x_test.iloc[:,:x_train_orig_w])"
   ]
  },
  {
   "cell_type": "markdown",
   "metadata": {},
   "source": [
    "Looking how many samples was not recognized"
   ]
  },
  {
   "cell_type": "code",
   "execution_count": null,
   "metadata": {},
   "outputs": [],
   "source": [
    "zcnt = 0\n",
    "for sis in range(0,z.shape[0]):\n",
    "    if z[sis].any() != 1:\n",
    "        zcnt += 1\n",
    "print(zcnt)"
   ]
  },
  {
   "cell_type": "markdown",
   "metadata": {},
   "source": [
    "Storing indexes of unrecognized samples"
   ]
  },
  {
   "cell_type": "code",
   "execution_count": null,
   "metadata": {},
   "outputs": [],
   "source": [
    "x_test['notdetected'] = 0\n",
    "y_test['notdetected'] = 0\n",
    "x_test['nd_ind'] = 0\n",
    "y_test['nd_ind'] = 0\n",
    "for sis in range(0,z.shape[0]):\n",
    "    if sis %300 == 0:\n",
    "        print(sis, ' out of ', z.shape[0])\n",
    "    if z[sis].any() != 1:\n",
    "        x_test['notdetected'][sis] = 1\n",
    "        x_test['nd_ind'][sis] = sis\n",
    "        y_test['notdetected'][sis] = 1\n",
    "        y_test['nd_ind'][sis] = sis"
   ]
  },
  {
   "cell_type": "markdown",
   "metadata": {},
   "source": [
    "Creating an additional dataset out of unrecognized samples"
   ]
  },
  {
   "cell_type": "code",
   "execution_count": null,
   "metadata": {},
   "outputs": [],
   "source": [
    "x_test_add = x_test[x_test.notdetected == 1]\n",
    "y_test_add = y_test[y_test.notdetected == 1]"
   ]
  },
  {
   "cell_type": "markdown",
   "metadata": {},
   "source": [
    "KNN classifier"
   ]
  },
  {
   "cell_type": "code",
   "execution_count": 14,
   "metadata": {},
   "outputs": [
    {
     "data": {
      "text/plain": [
       "KNeighborsClassifier(algorithm='auto', leaf_size=30, metric='minkowski',\n",
       "           metric_params=None, n_jobs=None, n_neighbors=1, p=2,\n",
       "           weights='uniform')"
      ]
     },
     "execution_count": 14,
     "metadata": {},
     "output_type": "execute_result"
    }
   ],
   "source": [
    "from sklearn.neighbors import KNeighborsClassifier\n",
    "neighbors = KNeighborsClassifier(n_neighbors=1)\n",
    "neighbors.fit(x_train, y_train)"
   ]
  },
  {
   "cell_type": "markdown",
   "metadata": {},
   "source": [
    "Accuracy on a training subset"
   ]
  },
  {
   "cell_type": "code",
   "execution_count": 15,
   "metadata": {},
   "outputs": [
    {
     "data": {
      "text/plain": [
       "1.0"
      ]
     },
     "execution_count": 15,
     "metadata": {},
     "output_type": "execute_result"
    }
   ],
   "source": [
    "neighbors.score(x_train, y_train)"
   ]
  },
  {
   "cell_type": "markdown",
   "metadata": {},
   "source": [
    "Accuracy on a testing subset"
   ]
  },
  {
   "cell_type": "code",
   "execution_count": null,
   "metadata": {},
   "outputs": [],
   "source": [
    "neighbors.score(x_test.iloc[:,:x_train_orig_w], y_test.iloc[:,:y_train_orig_w])"
   ]
  },
  {
   "cell_type": "markdown",
   "metadata": {},
   "source": [
    "Accuracy on unrecognized by RF subset"
   ]
  },
  {
   "cell_type": "code",
   "execution_count": null,
   "metadata": {},
   "outputs": [],
   "source": [
    "neighbors.score(x_test_add.iloc[:,:x_train_orig_w], y_test_add.iloc[:,:y_train_orig_w])"
   ]
  },
  {
   "cell_type": "markdown",
   "metadata": {},
   "source": [
    "Storing predicted values to array"
   ]
  },
  {
   "cell_type": "code",
   "execution_count": null,
   "metadata": {},
   "outputs": [],
   "source": [
    "z_add = neighbors.predict(x_test_add.iloc[:,:x_train_orig_w])"
   ]
  },
  {
   "cell_type": "markdown",
   "metadata": {},
   "source": [
    "Checking for unrecognized"
   ]
  },
  {
   "cell_type": "code",
   "execution_count": null,
   "metadata": {},
   "outputs": [],
   "source": [
    "zcnt = 0\n",
    "for sis in range(0,z_add.shape[0]):\n",
    "    if z_add[sis].any() != 1:\n",
    "        zcnt += 1\n",
    "print(zcnt)"
   ]
  },
  {
   "cell_type": "markdown",
   "metadata": {},
   "source": [
    "Replacing initially unrecognized values with predicted by KNN ones"
   ]
  },
  {
   "cell_type": "code",
   "execution_count": null,
   "metadata": {},
   "outputs": [],
   "source": [
    "for sis in range(0,z_add.shape[0]):\n",
    "#    if z[sis][0] == 1:\n",
    "        print(sis, y_test_add.iloc[sis,y_train_orig_w+1])\n",
    "        z[y_test_add.iloc[sis,y_train_orig_w+1]] = z_add[sis]\n",
    "\n"
   ]
  },
  {
   "cell_type": "markdown",
   "metadata": {},
   "source": [
    "Checking for accuracy by digits and total"
   ]
  },
  {
   "cell_type": "code",
   "execution_count": null,
   "metadata": {},
   "outputs": [],
   "source": [
    "tcnt = 0\n",
    "for ppos in range(0,10):\n",
    "    zcnt = 0\n",
    "#    print('#',ppos)\n",
    "    for sis in range(0,z.shape[0]):\n",
    "        if y_test.iloc[sis,ppos] and z[sis][ppos] != y_test.iloc[sis,ppos]:\n",
    "            zcnt += 1\n",
    "            for pis in range(0,10):\n",
    "                if z[sis][pis]:\n",
    "                    print('   ', ppos, ' messed with ', pis)\n",
    "    print('#', ppos, 'errors: ', zcnt)\n",
    "    tcnt += zcnt\n",
    "print('Total errors: ', tcnt)\n",
    "\n"
   ]
  },
  {
   "cell_type": "code",
   "execution_count": null,
   "metadata": {},
   "outputs": [],
   "source": [
    "zcnt = 0\n",
    "for sis in range(0,z.shape[0]):\n",
    "    for ppos in range(0,10):\n",
    "        if y_test.iloc[sis,ppos] and z[sis][ppos] != y_test.iloc[sis,ppos]:\n",
    "            zcnt += 1\n",
    "print(zcnt)"
   ]
  },
  {
   "cell_type": "markdown",
   "metadata": {},
   "source": [
    "Calculating accuracy"
   ]
  },
  {
   "cell_type": "code",
   "execution_count": null,
   "metadata": {},
   "outputs": [],
   "source": [
    "print('Accuracy:', (1-zcnt/x_test.shape[0])*100, '%')"
   ]
  },
  {
   "cell_type": "markdown",
   "metadata": {},
   "source": [
    "Taking the testing dataset"
   ]
  },
  {
   "cell_type": "code",
   "execution_count": 24,
   "metadata": {},
   "outputs": [],
   "source": [
    "df_test = pd.read_csv('test.csv')"
   ]
  },
  {
   "cell_type": "markdown",
   "metadata": {},
   "source": [
    "Feature engineering"
   ]
  },
  {
   "cell_type": "code",
   "execution_count": 25,
   "metadata": {},
   "outputs": [],
   "source": [
    "sel_width = 28000\n",
    "#features_test = pd.DataFrame()\n",
    "features_test = df_test"
   ]
  },
  {
   "cell_type": "code",
   "execution_count": 18,
   "metadata": {},
   "outputs": [],
   "source": [
    "#features_test['0'] = df_test.pixel0"
   ]
  },
  {
   "cell_type": "code",
   "execution_count": 26,
   "metadata": {},
   "outputs": [],
   "source": [
    "features_orig_w = features_test.shape[1]"
   ]
  },
  {
   "cell_type": "markdown",
   "metadata": {},
   "source": [
    "Random forest classifier"
   ]
  },
  {
   "cell_type": "code",
   "execution_count": 27,
   "metadata": {},
   "outputs": [],
   "source": [
    "z_test = rfc.predict(features_test.iloc[:,:])"
   ]
  },
  {
   "cell_type": "markdown",
   "metadata": {},
   "source": [
    "Looking how many digits wasn't recognized"
   ]
  },
  {
   "cell_type": "code",
   "execution_count": 28,
   "metadata": {},
   "outputs": [
    {
     "name": "stdout",
     "output_type": "stream",
     "text": [
      "2696\n"
     ]
    }
   ],
   "source": [
    "zcnt = 0\n",
    "for sis in range(0,z_test.shape[0]):\n",
    "    if z_test[sis].any() != 1:\n",
    "        zcnt += 1\n",
    "print(zcnt)"
   ]
  },
  {
   "cell_type": "markdown",
   "metadata": {},
   "source": [
    "Storing indexes of unrecognized samples"
   ]
  },
  {
   "cell_type": "code",
   "execution_count": 29,
   "metadata": {},
   "outputs": [],
   "source": [
    "features_test['notdetected'] = 0\n",
    "features_test['nd_ind'] = 0\n",
    "for sis in range(0,z_test.shape[0]):\n",
    "    if z_test[sis].any() != 1:\n",
    "        features_test['notdetected'][sis] = 1\n",
    "        features_test['nd_ind'][sis] = sis"
   ]
  },
  {
   "cell_type": "markdown",
   "metadata": {},
   "source": [
    "Creating additional subset for KNN"
   ]
  },
  {
   "cell_type": "code",
   "execution_count": 30,
   "metadata": {},
   "outputs": [],
   "source": [
    "features_test_add = features_test[features_test.notdetected == 1]"
   ]
  },
  {
   "cell_type": "markdown",
   "metadata": {},
   "source": [
    "KNN classifier"
   ]
  },
  {
   "cell_type": "code",
   "execution_count": 31,
   "metadata": {},
   "outputs": [],
   "source": [
    "z_test_add = neighbors.predict(features_test_add.iloc[:,:features_orig_w])"
   ]
  },
  {
   "cell_type": "markdown",
   "metadata": {},
   "source": [
    "Checking for unrecognized samples"
   ]
  },
  {
   "cell_type": "code",
   "execution_count": 33,
   "metadata": {},
   "outputs": [
    {
     "name": "stdout",
     "output_type": "stream",
     "text": [
      "0\n"
     ]
    }
   ],
   "source": [
    "zcnt = 0\n",
    "for sis in range(0,z_test_add.shape[0]):\n",
    "    if z_test_add[sis].any() != 1:\n",
    "        zcnt += 1\n",
    "print(zcnt)"
   ]
  },
  {
   "cell_type": "markdown",
   "metadata": {},
   "source": [
    "Replacing unlabeled data with labels, derived from KNN"
   ]
  },
  {
   "cell_type": "code",
   "execution_count": 34,
   "metadata": {},
   "outputs": [],
   "source": [
    "for sis in range(0,z_test_add.shape[0]):\n",
    "        z_test[features_test_add.iloc[sis,features_orig_w+1]] = z_test_add[sis]"
   ]
  },
  {
   "cell_type": "markdown",
   "metadata": {},
   "source": [
    "Creating the submission dataset"
   ]
  },
  {
   "cell_type": "code",
   "execution_count": 35,
   "metadata": {},
   "outputs": [],
   "source": [
    "submission = pd.DataFrame()\n",
    "submission['0'] = df_test.pixel0\n",
    "submission['ImageId'] = 0\n",
    "submission['Label'] = 0"
   ]
  },
  {
   "cell_type": "code",
   "execution_count": 36,
   "metadata": {},
   "outputs": [
    {
     "name": "stdout",
     "output_type": "stream",
     "text": [
      "0\n",
      "1000\n",
      "2000\n",
      "3000\n",
      "4000\n",
      "5000\n",
      "6000\n",
      "7000\n",
      "8000\n",
      "9000\n",
      "10000\n",
      "11000\n",
      "12000\n",
      "13000\n",
      "14000\n",
      "15000\n",
      "16000\n",
      "17000\n",
      "18000\n",
      "19000\n",
      "20000\n",
      "21000\n",
      "22000\n",
      "23000\n",
      "24000\n",
      "25000\n",
      "26000\n",
      "27000\n"
     ]
    }
   ],
   "source": [
    "for sis in range(0,z_test.shape[0]):\n",
    "    if sis%1000 == 0:\n",
    "        print(sis)\n",
    "    for pis in range(0,10):\n",
    "        if z_test[sis][pis] == 1:\n",
    "            submission.iloc[sis,1] = sis+1\n",
    "            submission.iloc[sis,2] = pis"
   ]
  },
  {
   "cell_type": "code",
   "execution_count": 37,
   "metadata": {},
   "outputs": [
    {
     "data": {
      "text/plain": [
       "(28000, 3)"
      ]
     },
     "execution_count": 37,
     "metadata": {},
     "output_type": "execute_result"
    }
   ],
   "source": [
    "submission.shape"
   ]
  },
  {
   "cell_type": "code",
   "execution_count": 38,
   "metadata": {},
   "outputs": [],
   "source": [
    "submission.iloc[:,1:].to_csv('submission_RF_KNN.csv', index=False)"
   ]
  },
  {
   "cell_type": "markdown",
   "metadata": {},
   "source": [
    "Checking SVM classifier"
   ]
  },
  {
   "cell_type": "code",
   "execution_count": 39,
   "metadata": {},
   "outputs": [],
   "source": [
    "from sklearn.svm import SVC\n"
   ]
  },
  {
   "cell_type": "markdown",
   "metadata": {},
   "source": [
    "Retaking the data"
   ]
  },
  {
   "cell_type": "code",
   "execution_count": 40,
   "metadata": {},
   "outputs": [],
   "source": [
    "x = df.iloc[:sel_width,1:]\n",
    "y = df.iloc[:sel_width,0]"
   ]
  },
  {
   "cell_type": "code",
   "execution_count": 41,
   "metadata": {},
   "outputs": [],
   "source": [
    "#x_train, y_train = x[x.index % 10 != 0], y[y.index % 10 != 0]\n",
    "#x_test, y_test = x[x.index % 10 == 0], y[y.index % 10 == 0]"
   ]
  },
  {
   "cell_type": "code",
   "execution_count": 42,
   "metadata": {},
   "outputs": [],
   "source": [
    "x_train = x\n",
    "y_train = y"
   ]
  },
  {
   "cell_type": "markdown",
   "metadata": {},
   "source": [
    "SVM classifier"
   ]
  },
  {
   "cell_type": "code",
   "execution_count": 43,
   "metadata": {},
   "outputs": [
    {
     "data": {
      "text/plain": [
       "SVC(C=1.0, cache_size=200, class_weight=None, coef0=0.0,\n",
       "  decision_function_shape='ovr', degree=3, gamma='scale', kernel='rbf',\n",
       "  max_iter=-1, probability=False, random_state=None, shrinking=True,\n",
       "  tol=0.001, verbose=False)"
      ]
     },
     "execution_count": 43,
     "metadata": {},
     "output_type": "execute_result"
    }
   ],
   "source": [
    "svm = SVC(gamma='scale')\n",
    "svm.fit(x_train, y_train)"
   ]
  },
  {
   "cell_type": "code",
   "execution_count": null,
   "metadata": {},
   "outputs": [],
   "source": [
    "svm.score(x_train, y_train)"
   ]
  },
  {
   "cell_type": "code",
   "execution_count": null,
   "metadata": {},
   "outputs": [],
   "source": [
    "svm.score(x_test, y_test)"
   ]
  },
  {
   "cell_type": "markdown",
   "metadata": {},
   "source": [
    "Predicting unrecognized samples from RF"
   ]
  },
  {
   "cell_type": "code",
   "execution_count": 44,
   "metadata": {},
   "outputs": [],
   "source": [
    "z_svm_add = svm.predict(features_test_add.iloc[:,:features_orig_w])"
   ]
  },
  {
   "cell_type": "code",
   "execution_count": 45,
   "metadata": {},
   "outputs": [],
   "source": [
    "submission_svm = pd.DataFrame()\n",
    "submission_svm['0'] = df_test.pixel0\n",
    "submission_svm['ImageId'] = 0\n",
    "submission_svm['Label'] = 0"
   ]
  },
  {
   "cell_type": "code",
   "execution_count": 46,
   "metadata": {},
   "outputs": [],
   "source": [
    "for sis in range(0,z_test.shape[0]):\n",
    "    for pis in range(0,10):\n",
    "        if z_test[sis][pis] == 1:\n",
    "            submission_svm.iloc[sis,1] = sis+1\n",
    "            submission_svm.iloc[sis,2] = pis"
   ]
  },
  {
   "cell_type": "code",
   "execution_count": 47,
   "metadata": {},
   "outputs": [],
   "source": [
    "for sis in range(0,z_svm_add.shape[0]):\n",
    "    submission_svm.iloc[features_test_add.iloc[sis,features_orig_w+1],2] = z_svm_add[sis]"
   ]
  },
  {
   "cell_type": "code",
   "execution_count": 48,
   "metadata": {},
   "outputs": [],
   "source": [
    "submission_svm.iloc[:,1:].to_csv('submission_RF_SVM.csv', index=False)"
   ]
  },
  {
   "cell_type": "markdown",
   "metadata": {},
   "source": [
    "Checking pure SVM classifier"
   ]
  },
  {
   "cell_type": "code",
   "execution_count": 53,
   "metadata": {},
   "outputs": [],
   "source": [
    "z_svm_sub = svm.predict(df_test.iloc[:,:features_orig_w])"
   ]
  },
  {
   "cell_type": "code",
   "execution_count": 54,
   "metadata": {},
   "outputs": [],
   "source": [
    "submission_svm_clear = pd.DataFrame()\n",
    "submission_svm_clear['0'] = df_test.pixel0\n",
    "submission_svm_clear['ImageId'] = 0\n",
    "submission_svm_clear['Label'] = 0"
   ]
  },
  {
   "cell_type": "code",
   "execution_count": 55,
   "metadata": {},
   "outputs": [],
   "source": [
    "for sis in range(0,z_svm_sub.shape[0]):\n",
    "    submission_svm_clear.iloc[sis,1] = sis+1\n",
    "    submission_svm_clear.iloc[sis,2] = z_svm_sub[sis]"
   ]
  },
  {
   "cell_type": "code",
   "execution_count": 56,
   "metadata": {},
   "outputs": [],
   "source": [
    "submission_svm_clear.iloc[:,1:].to_csv('submission_SVM.csv', index=False)"
   ]
  },
  {
   "cell_type": "markdown",
   "metadata": {},
   "source": [
    "Trying to fit KNN with the data from training set AND already recognized by RF data from testing set"
   ]
  },
  {
   "cell_type": "code",
   "execution_count": 107,
   "metadata": {},
   "outputs": [],
   "source": [
    "z_t = pd.DataFrame()\n",
    "z_t['r0'] = features_test[features_test.notdetected==0].iloc[:,:-4].pixel0\n",
    "z_t['r0'] = 0\n",
    "z_t['r1'] = 0\n",
    "z_t['r2'] = 0\n",
    "z_t['r3'] = 0\n",
    "z_t['r4'] = 0\n",
    "z_t['r5'] = 0\n",
    "z_t['r6'] = 0\n",
    "z_t['r7'] = 0\n",
    "z_t['r8'] = 0\n",
    "z_t['r9'] = 0"
   ]
  },
  {
   "cell_type": "code",
   "execution_count": 108,
   "metadata": {},
   "outputs": [
    {
     "name": "stdout",
     "output_type": "stream",
     "text": [
      "0\n",
      "3000\n",
      "6000\n",
      "9000\n",
      "12000\n",
      "15000\n",
      "18000\n",
      "21000\n",
      "24000\n",
      "27000\n"
     ]
    }
   ],
   "source": [
    "ztpos = 0\n",
    "for sis in range(0,z_test.shape[0]):\n",
    "    if sis%3000 == 0:\n",
    "        print(sis)\n",
    "    if features_test['notdetected'][sis] == 0:\n",
    "        for ppos in range(0,10):\n",
    "            if z_test[sis][ppos]:\n",
    "                z_t.iloc[ztpos,ppos] = 1        \n",
    "#                z_t.iloc[ztpos,:] = z_test[sis]\n",
    "        ztpos += 1\n"
   ]
  },
  {
   "cell_type": "code",
   "execution_count": 158,
   "metadata": {},
   "outputs": [],
   "source": [
    "x_train = df.iloc[:42000,1:]"
   ]
  },
  {
   "cell_type": "code",
   "execution_count": 159,
   "metadata": {},
   "outputs": [],
   "source": [
    "m_x_train = pd.concat([x_train, features_test[features_test.notdetected==0].iloc[:,:-2]], ignore_index=True, sort=False)"
   ]
  },
  {
   "cell_type": "code",
   "execution_count": 160,
   "metadata": {},
   "outputs": [],
   "source": [
    "y_train = features.iloc[:,:10]"
   ]
  },
  {
   "cell_type": "code",
   "execution_count": 161,
   "metadata": {},
   "outputs": [],
   "source": [
    "y_train.columns=['r0','r1','r2','r3','r4','r5','r6','r7','r8','r9']"
   ]
  },
  {
   "cell_type": "code",
   "execution_count": 163,
   "metadata": {},
   "outputs": [],
   "source": [
    "m_y_train = y_train.append([z_t], ignore_index=True)"
   ]
  },
  {
   "cell_type": "code",
   "execution_count": 164,
   "metadata": {},
   "outputs": [
    {
     "data": {
      "text/plain": [
       "KNeighborsClassifier(algorithm='auto', leaf_size=30, metric='minkowski',\n",
       "           metric_params=None, n_jobs=None, n_neighbors=1, p=2,\n",
       "           weights='uniform')"
      ]
     },
     "execution_count": 164,
     "metadata": {},
     "output_type": "execute_result"
    }
   ],
   "source": [
    "m_neighbors = KNeighborsClassifier(n_neighbors=1)\n",
    "m_neighbors.fit(m_x_train, m_y_train)"
   ]
  },
  {
   "cell_type": "code",
   "execution_count": 165,
   "metadata": {},
   "outputs": [],
   "source": [
    "zm_test_add = m_neighbors.predict(features_test_add.iloc[:,:features_orig_w])"
   ]
  },
  {
   "cell_type": "code",
   "execution_count": 169,
   "metadata": {},
   "outputs": [],
   "source": [
    "for sis in range(0,zm_test_add.shape[0]):\n",
    "        z_test[features_test_add.iloc[sis,features_orig_w+1]] = zm_test_add[sis]"
   ]
  },
  {
   "cell_type": "code",
   "execution_count": 170,
   "metadata": {},
   "outputs": [],
   "source": [
    "submission_zm = pd.DataFrame()\n",
    "submission_zm['0'] = df_test.pixel0\n",
    "submission_zm['ImageId'] = 0\n",
    "submission_zm['Label'] = 0"
   ]
  },
  {
   "cell_type": "code",
   "execution_count": 171,
   "metadata": {},
   "outputs": [],
   "source": [
    "for sis in range(0,z_test.shape[0]):\n",
    "    for pis in range(0,10):\n",
    "        if z_test[sis][pis] == 1:\n",
    "            submission_zm.iloc[sis,1] = sis+1\n",
    "            submission_zm.iloc[sis,2] = pis"
   ]
  },
  {
   "cell_type": "code",
   "execution_count": 172,
   "metadata": {},
   "outputs": [
    {
     "data": {
      "text/plain": [
       "(28000, 3)"
      ]
     },
     "execution_count": 172,
     "metadata": {},
     "output_type": "execute_result"
    }
   ],
   "source": [
    "submission_zm.shape"
   ]
  },
  {
   "cell_type": "code",
   "execution_count": 173,
   "metadata": {},
   "outputs": [],
   "source": [
    "submission_zm.iloc[:,1:].to_csv('submission_RF_RF_KNN.csv', index=False)"
   ]
  },
  {
   "cell_type": "markdown",
   "metadata": {},
   "source": [
    "Trying to fit RF! with the data from training set AND already recognized by RF data from testing set"
   ]
  },
  {
   "cell_type": "code",
   "execution_count": 174,
   "metadata": {},
   "outputs": [
    {
     "data": {
      "text/plain": [
       "RandomForestClassifier(bootstrap=True, class_weight=None, criterion='entropy',\n",
       "            max_depth=150, max_features='auto', max_leaf_nodes=None,\n",
       "            min_impurity_decrease=0.0, min_impurity_split=None,\n",
       "            min_samples_leaf=1, min_samples_split=2,\n",
       "            min_weight_fraction_leaf=0.0, n_estimators=3000, n_jobs=None,\n",
       "            oob_score=False, random_state=None, verbose=0,\n",
       "            warm_start=False)"
      ]
     },
     "execution_count": 174,
     "metadata": {},
     "output_type": "execute_result"
    }
   ],
   "source": [
    "rfc_loop = ensemble.RandomForestClassifier(max_depth=150, n_estimators=3000, criterion='entropy')\n",
    "rfc_loop.fit(m_x_train,m_y_train)"
   ]
  },
  {
   "cell_type": "code",
   "execution_count": 178,
   "metadata": {},
   "outputs": [],
   "source": [
    "z_test_loop = rfc_loop.predict(features_test.iloc[:,:features_orig_w])"
   ]
  },
  {
   "cell_type": "code",
   "execution_count": 181,
   "metadata": {},
   "outputs": [
    {
     "name": "stdout",
     "output_type": "stream",
     "text": [
      "2289\n"
     ]
    }
   ],
   "source": [
    "zcnt = 0\n",
    "for sis in range(0,z_test_loop.shape[0]):\n",
    "    if z_test_loop[sis].any() != 1:\n",
    "        zcnt += 1\n",
    "print(zcnt)"
   ]
  },
  {
   "cell_type": "markdown",
   "metadata": {},
   "source": [
    "Storing indexes of unrecognized samples"
   ]
  },
  {
   "cell_type": "code",
   "execution_count": 189,
   "metadata": {},
   "outputs": [
    {
     "name": "stdout",
     "output_type": "stream",
     "text": [
      "0\n",
      "1000\n",
      "2000\n",
      "3000\n",
      "4000\n",
      "5000\n",
      "6000\n",
      "7000\n",
      "8000\n",
      "9000\n",
      "10000\n",
      "11000\n",
      "12000\n",
      "13000\n",
      "14000\n",
      "15000\n",
      "16000\n",
      "17000\n",
      "18000\n",
      "19000\n",
      "20000\n",
      "21000\n",
      "22000\n",
      "23000\n",
      "24000\n",
      "25000\n",
      "26000\n",
      "27000\n"
     ]
    }
   ],
   "source": [
    "features_test['notdetected'] = 0\n",
    "features_test['nd_ind'] = 0\n",
    "for sis in range(0,z_test_loop.shape[0]):\n",
    "    if sis%1000 == 0:\n",
    "        print(sis)\n",
    "    if z_test_loop[sis].any() != 1:\n",
    "        features_test['notdetected'][sis] = 1\n",
    "        features_test['nd_ind'][sis] = sis\n"
   ]
  },
  {
   "cell_type": "markdown",
   "metadata": {},
   "source": [
    "Creating additional subset"
   ]
  },
  {
   "cell_type": "code",
   "execution_count": 191,
   "metadata": {},
   "outputs": [],
   "source": [
    "features_test_add = features_test[features_test.notdetected == 1]"
   ]
  },
  {
   "cell_type": "markdown",
   "metadata": {},
   "source": [
    "KNN classifier"
   ]
  },
  {
   "cell_type": "code",
   "execution_count": 193,
   "metadata": {},
   "outputs": [],
   "source": [
    "zmk_test_add = m_neighbors.predict(features_test_add.iloc[:,:features_orig_w])"
   ]
  },
  {
   "cell_type": "markdown",
   "metadata": {},
   "source": [
    "Checking for unrecognized samples"
   ]
  },
  {
   "cell_type": "code",
   "execution_count": 196,
   "metadata": {},
   "outputs": [
    {
     "name": "stdout",
     "output_type": "stream",
     "text": [
      "0\n"
     ]
    }
   ],
   "source": [
    "zcnt = 0\n",
    "for sis in range(0,zmk_test_add.shape[0]):\n",
    "    if zmk_test_add[sis].any() != 1:\n",
    "        zcnt += 1\n",
    "print(zcnt)"
   ]
  },
  {
   "cell_type": "markdown",
   "metadata": {},
   "source": [
    "Replacing unlabeled data with labels, derived from KNN"
   ]
  },
  {
   "cell_type": "code",
   "execution_count": 197,
   "metadata": {},
   "outputs": [],
   "source": [
    "for sis in range(0,zmk_test_add.shape[0]):\n",
    "        z_test_loop[features_test_add.iloc[sis,features_orig_w+1]] = zmk_test_add[sis]"
   ]
  },
  {
   "cell_type": "markdown",
   "metadata": {},
   "source": [
    "Creating the submission dataset"
   ]
  },
  {
   "cell_type": "code",
   "execution_count": 198,
   "metadata": {},
   "outputs": [],
   "source": [
    "submission_zmk = pd.DataFrame()\n",
    "submission_zmk['0'] = df_test.pixel0\n",
    "submission_zmk['ImageId'] = 0\n",
    "submission_zmk['Label'] = 0"
   ]
  },
  {
   "cell_type": "code",
   "execution_count": 199,
   "metadata": {},
   "outputs": [
    {
     "name": "stdout",
     "output_type": "stream",
     "text": [
      "0\n",
      "1000\n",
      "2000\n",
      "3000\n",
      "4000\n",
      "5000\n",
      "6000\n",
      "7000\n",
      "8000\n",
      "9000\n",
      "10000\n",
      "11000\n",
      "12000\n",
      "13000\n",
      "14000\n",
      "15000\n",
      "16000\n",
      "17000\n",
      "18000\n",
      "19000\n",
      "20000\n",
      "21000\n",
      "22000\n",
      "23000\n",
      "24000\n",
      "25000\n",
      "26000\n",
      "27000\n"
     ]
    }
   ],
   "source": [
    "for sis in range(0,z_test_loop.shape[0]):\n",
    "    if sis%1000 == 0:\n",
    "        print(sis)\n",
    "    for pis in range(0,10):\n",
    "        if z_test_loop[sis][pis] == 1:\n",
    "            submission_zmk.iloc[sis,1] = sis+1\n",
    "            submission_zmk.iloc[sis,2] = pis"
   ]
  },
  {
   "cell_type": "code",
   "execution_count": 200,
   "metadata": {},
   "outputs": [
    {
     "data": {
      "text/plain": [
       "(28000, 3)"
      ]
     },
     "execution_count": 200,
     "metadata": {},
     "output_type": "execute_result"
    }
   ],
   "source": [
    "submission_zmk.shape"
   ]
  },
  {
   "cell_type": "code",
   "execution_count": 201,
   "metadata": {},
   "outputs": [],
   "source": [
    "submission_zmk.iloc[:,1:].to_csv('submission_RF_KNN_LOOP.csv', index=False)"
   ]
  },
  {
   "cell_type": "markdown",
   "metadata": {},
   "source": [
    "Trying to fit SVM with the data from training set AND already recognized by RF data from testing set"
   ]
  },
  {
   "cell_type": "code",
   "execution_count": 203,
   "metadata": {},
   "outputs": [
    {
     "name": "stdout",
     "output_type": "stream",
     "text": [
      "0\n",
      "1000\n",
      "2000\n",
      "3000\n",
      "4000\n",
      "5000\n",
      "6000\n",
      "7000\n",
      "8000\n",
      "9000\n",
      "10000\n",
      "11000\n",
      "12000\n",
      "13000\n",
      "14000\n",
      "15000\n",
      "16000\n",
      "17000\n",
      "18000\n",
      "19000\n",
      "20000\n",
      "21000\n",
      "22000\n",
      "23000\n",
      "24000\n",
      "25000\n",
      "26000\n",
      "27000\n",
      "28000\n",
      "29000\n",
      "30000\n",
      "31000\n",
      "32000\n",
      "33000\n",
      "34000\n",
      "35000\n",
      "36000\n",
      "37000\n",
      "38000\n",
      "39000\n",
      "40000\n",
      "41000\n",
      "42000\n",
      "43000\n",
      "44000\n",
      "45000\n",
      "46000\n",
      "47000\n",
      "48000\n",
      "49000\n",
      "50000\n",
      "51000\n",
      "52000\n",
      "53000\n",
      "54000\n",
      "55000\n",
      "56000\n",
      "57000\n",
      "58000\n",
      "59000\n",
      "60000\n",
      "61000\n",
      "62000\n",
      "63000\n",
      "64000\n",
      "65000\n",
      "66000\n",
      "67000\n"
     ]
    }
   ],
   "source": [
    "m_y_train['label'] = 0\n",
    "for sis in range(0,m_y_train.shape[0]):\n",
    "    if sis%1000 == 0:\n",
    "        print(sis)\n",
    "    for pis in range(0,10):\n",
    "        if m_y_train['r'+str(pis)][sis] == 1:\n",
    "            m_y_train['label'][sis] = pis"
   ]
  },
  {
   "cell_type": "code",
   "execution_count": 206,
   "metadata": {},
   "outputs": [
    {
     "data": {
      "text/plain": [
       "SVC(C=1.0, cache_size=200, class_weight=None, coef0=0.0,\n",
       "  decision_function_shape='ovr', degree=3, gamma='scale', kernel='rbf',\n",
       "  max_iter=-1, probability=False, random_state=None, shrinking=True,\n",
       "  tol=0.001, verbose=False)"
      ]
     },
     "execution_count": 206,
     "metadata": {},
     "output_type": "execute_result"
    }
   ],
   "source": [
    "svm_loop = SVC(gamma='scale')\n",
    "svm_loop.fit(m_x_train, m_y_train['label'])"
   ]
  },
  {
   "cell_type": "code",
   "execution_count": 217,
   "metadata": {},
   "outputs": [],
   "source": [
    "z_svm_loop = svm_loop.predict(df_test.iloc[:,:features_orig_w])"
   ]
  },
  {
   "cell_type": "code",
   "execution_count": 218,
   "metadata": {},
   "outputs": [],
   "source": [
    "submission_svm_loop = pd.DataFrame()\n",
    "submission_svm_loop['0'] = df_test.pixel0\n",
    "submission_svm_loop['ImageId'] = 0\n",
    "submission_svm_loop['Label'] = 0"
   ]
  },
  {
   "cell_type": "code",
   "execution_count": 219,
   "metadata": {},
   "outputs": [],
   "source": [
    "for sis in range(0,z_svm_loop.shape[0]):\n",
    "    submission_svm_loop['ImageId'][sis] = sis+1\n",
    "    submission_svm_loop['Label'][sis] = z_svm_loop[sis]"
   ]
  },
  {
   "cell_type": "code",
   "execution_count": 220,
   "metadata": {},
   "outputs": [
    {
     "data": {
      "text/plain": [
       "(28000, 3)"
      ]
     },
     "execution_count": 220,
     "metadata": {},
     "output_type": "execute_result"
    }
   ],
   "source": [
    "submission_svm_loop.shape"
   ]
  },
  {
   "cell_type": "code",
   "execution_count": 221,
   "metadata": {},
   "outputs": [],
   "source": [
    "submission_svm_loop.iloc[:,1:].to_csv('submission_SVM_LOOP.csv', index=False)"
   ]
  },
  {
   "cell_type": "markdown",
   "metadata": {},
   "source": [
    "Trying to fit SVM with the data from training set AND already recognized by RF data from testing set and then to use substitute unrecognized RF data with ones, predicted by the latest overfitted SVM"
   ]
  },
  {
   "cell_type": "code",
   "execution_count": 222,
   "metadata": {},
   "outputs": [],
   "source": [
    "z_svm_loop_add = svm_loop.predict(features_test_add.iloc[:,:features_orig_w])"
   ]
  },
  {
   "cell_type": "code",
   "execution_count": 225,
   "metadata": {},
   "outputs": [],
   "source": [
    "submission_svm_add_loop = pd.DataFrame()\n",
    "submission_svm_add_loop['0'] = df_test.pixel0\n",
    "submission_svm_add_loop['ImageId'] = 0\n",
    "submission_svm_add_loop['Label'] = 0"
   ]
  },
  {
   "cell_type": "code",
   "execution_count": 227,
   "metadata": {},
   "outputs": [],
   "source": [
    "for sis in range(0,z_test_loop.shape[0]):\n",
    "    for pis in range(0,10):\n",
    "        if z_test_loop[sis][pis] == 1:\n",
    "            submission_svm_add_loop['ImageId'][sis] = sis+1\n",
    "            submission_svm_add_loop['Label'][sis] = pis"
   ]
  },
  {
   "cell_type": "code",
   "execution_count": 229,
   "metadata": {},
   "outputs": [],
   "source": [
    "for sis in range(0,z_svm_loop_add.shape[0]):\n",
    "    submission_svm_add_loop.iloc[features_test_add.iloc[sis,features_orig_w+1],2] = z_svm_loop_add[sis]"
   ]
  },
  {
   "cell_type": "code",
   "execution_count": 230,
   "metadata": {},
   "outputs": [],
   "source": [
    "submission_svm_add_loop.iloc[:,1:].to_csv('submission_RF_SVM_LOOP.csv', index=False)"
   ]
  },
  {
   "cell_type": "markdown",
   "metadata": {},
   "source": [
    "That's it..."
   ]
  }
 ],
 "metadata": {
  "kernelspec": {
   "display_name": "Python 3",
   "language": "python",
   "name": "python3"
  },
  "language_info": {
   "codemirror_mode": {
    "name": "ipython",
    "version": 3
   },
   "file_extension": ".py",
   "mimetype": "text/x-python",
   "name": "python",
   "nbconvert_exporter": "python",
   "pygments_lexer": "ipython3",
   "version": "3.7.3"
  }
 },
 "nbformat": 4,
 "nbformat_minor": 2
}
